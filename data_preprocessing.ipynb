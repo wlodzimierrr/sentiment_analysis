{
 "cells": [
  {
   "cell_type": "markdown",
   "metadata": {},
   "source": [
    "Dataset link: https://amazon-reviews-2023.github.io/"
   ]
  },
  {
   "cell_type": "code",
   "execution_count": null,
   "metadata": {},
   "outputs": [],
   "source": [
    "import json\n",
    "import pandas as pd\n",
    "from pprint import pprint\n",
    "from tqdm import tqdm\n",
    "\n",
    "# Use tqdm to track progress\n",
    "tqdm.pandas()\n",
    "\n",
    "file = 'data/Sports_and_Outdoors.jsonl'\n",
    "\n",
    "def read_jsonl(file_path, nrows=None):\n",
    "    data = []\n",
    "    with open(file_path, 'r') as file:\n",
    "        for i, line in enumerate(file):\n",
    "            if nrows and i >= nrows:\n",
    "                break\n",
    "            data.append(json.loads(line))\n",
    "    return pd.DataFrame(data)\n",
    "\n",
    "# Read a sample of the dataset\n",
    "df = read_jsonl(file, nrows=100000)\n",
    "\n",
    "# Select and rename relevant columns for better readability\n",
    "relevant_columns = ['timestamp', 'rating', 'helpful_vote', 'title', 'text', 'asin', 'verified_purchase', 'user_id']\n",
    "df = df[relevant_columns]\n",
    "\n",
    "# Convert timestamp to readable date format\n",
    "df['timestamp'] = pd.to_datetime(df['timestamp'], unit='ms')\n",
    "\n",
    "# Display the DataFrame with enhanced readability\n",
    "print(df.head())\n",
    "\n",
    "# Pretty print the first review for better visualization\n",
    "first_review = df.iloc[0].to_dict()\n",
    "print(\"\\nFirst review:\")\n",
    "pprint(first_review)\n"
   ]
  },
  {
   "cell_type": "code",
   "execution_count": null,
   "metadata": {},
   "outputs": [],
   "source": [
    "from langdetect import detect\n",
    "\n",
    "# Language Detection\n",
    "def detect_language(review):\n",
    "    try:\n",
    "        return detect(review)\n",
    "    except:\n",
    "        return 'unknown'\n",
    "\n",
    "# Apply language detection\n",
    "df['language'] = df['text'].progress_apply(detect_language)\n",
    "df = df[df['language'] == 'en']"
   ]
  },
  {
   "cell_type": "code",
   "execution_count": null,
   "metadata": {},
   "outputs": [],
   "source": [
    "import nltk\n",
    "from nltk.corpus import words\n",
    "import re\n",
    "\n",
    "# Gibberish Detection\n",
    "nltk.download('words')\n",
    "word_set = set(words.words())\n",
    "\n",
    "def gibberish(review):\n",
    "    words_in_review = re.findall(r'\\b\\w+\\b', review.lower())\n",
    "    if len(words_in_review) == 0:\n",
    "        return True\n",
    "    gibberish_score = sum(1 for word in words_in_review if word not in word_set) / len(words_in_review)\n",
    "    return gibberish_score > 0.5\n",
    "\n",
    "# Apply gibberish detection\n",
    "df['gibberish'] = df['text'].progress_apply(gibberish)\n",
    "df = df[df['gibberish'] == False]"
   ]
  },
  {
   "cell_type": "code",
   "execution_count": null,
   "metadata": {},
   "outputs": [],
   "source": [
    "from better_profanity import profanity\n",
    "\n",
    "# Profanity Detection using better-profanity\n",
    "profanity.load_censor_words()\n",
    "\n",
    "# Apply profanity detection\n",
    "df['profanity'] = df['text'].progress_apply(lambda x: not profanity.contains_profanity(x))\n",
    "df = df[df['profanity']]\n",
    "\n",
    "# Drop intermediate columns used for preprocessing\n",
    "df = df.drop(columns=['gibberish', 'profanity'])"
   ]
  },
  {
   "cell_type": "code",
   "execution_count": null,
   "metadata": {},
   "outputs": [],
   "source": [
    "text = df['text'][0]\n",
    "censored_text = profanity.censor(text)\n",
    "print(censored_text)"
   ]
  },
  {
   "cell_type": "code",
   "execution_count": null,
   "metadata": {},
   "outputs": [],
   "source": [
    "# Save the cleaned data\n",
    "cleaned_file_path = 'data/Cleaned_Sports_and_Outdoors.csv'\n",
    "df.to_csv(cleaned_file_path, index=False)"
   ]
  },
  {
   "cell_type": "code",
   "execution_count": null,
   "metadata": {},
   "outputs": [],
   "source": [
    "# Display the first few rows of the cleaned dataframe\n",
    "print(df.head())\n",
    "\n",
    "first_review = df.iloc[0].to_dict()\n",
    "print(\"\\nFirst review:\")\n",
    "pprint(first_review)"
   ]
  }
 ],
 "metadata": {
  "kernelspec": {
   "display_name": "sentiment",
   "language": "python",
   "name": "python3"
  },
  "language_info": {
   "codemirror_mode": {
    "name": "ipython",
    "version": 3
   },
   "file_extension": ".py",
   "mimetype": "text/x-python",
   "name": "python",
   "nbconvert_exporter": "python",
   "pygments_lexer": "ipython3",
   "version": "3.12.4"
  }
 },
 "nbformat": 4,
 "nbformat_minor": 2
}
